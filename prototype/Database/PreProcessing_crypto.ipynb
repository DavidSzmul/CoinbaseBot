{
 "metadata": {
  "language_info": {
   "codemirror_mode": {
    "name": "ipython",
    "version": 3
   },
   "file_extension": ".py",
   "mimetype": "text/x-python",
   "name": "python",
   "nbconvert_exporter": "python",
   "pygments_lexer": "ipython3",
   "version": "3.8.9"
  },
  "orig_nbformat": 2,
  "kernelspec": {
   "name": "python389jvsc74a57bd0d5307ae7be77f504be869cabca25184655dbf2914e3429be11ec8526b1cfeb30",
   "display_name": "Python 3.8.9 64-bit"
  },
  "metadata": {
   "interpreter": {
    "hash": "d5307ae7be77f504be869cabca25184655dbf2914e3429be11ec8526b1cfeb30"
   }
  }
 },
 "nbformat": 4,
 "nbformat_minor": 2,
 "cells": [
  {
   "source": [
    "### Load Database"
   ],
   "cell_type": "markdown",
   "metadata": {}
  },
  {
   "cell_type": "code",
   "execution_count": 9,
   "metadata": {},
   "outputs": [
    {
     "output_type": "execute_result",
     "data": {
      "text/plain": [
       "             BTC-EUR  ETH-EUR  ETC-EUR  LTC-EUR\n",
       "1621880760  31045.00  2095.98   50.659   139.69\n",
       "1621880820  31063.25  2100.64   50.735   139.87\n",
       "1621880880  31115.35  2107.73   50.779   140.52\n",
       "1621880940  31189.60  2113.80   51.030   140.67\n",
       "1621881000  31279.09  2119.51   51.042   141.05"
      ],
      "text/html": "<div>\n<style scoped>\n    .dataframe tbody tr th:only-of-type {\n        vertical-align: middle;\n    }\n\n    .dataframe tbody tr th {\n        vertical-align: top;\n    }\n\n    .dataframe thead th {\n        text-align: right;\n    }\n</style>\n<table border=\"1\" class=\"dataframe\">\n  <thead>\n    <tr style=\"text-align: right;\">\n      <th></th>\n      <th>BTC-EUR</th>\n      <th>ETH-EUR</th>\n      <th>ETC-EUR</th>\n      <th>LTC-EUR</th>\n    </tr>\n  </thead>\n  <tbody>\n    <tr>\n      <th>1621880760</th>\n      <td>31045.00</td>\n      <td>2095.98</td>\n      <td>50.659</td>\n      <td>139.69</td>\n    </tr>\n    <tr>\n      <th>1621880820</th>\n      <td>31063.25</td>\n      <td>2100.64</td>\n      <td>50.735</td>\n      <td>139.87</td>\n    </tr>\n    <tr>\n      <th>1621880880</th>\n      <td>31115.35</td>\n      <td>2107.73</td>\n      <td>50.779</td>\n      <td>140.52</td>\n    </tr>\n    <tr>\n      <th>1621880940</th>\n      <td>31189.60</td>\n      <td>2113.80</td>\n      <td>51.030</td>\n      <td>140.67</td>\n    </tr>\n    <tr>\n      <th>1621881000</th>\n      <td>31279.09</td>\n      <td>2119.51</td>\n      <td>51.042</td>\n      <td>141.05</td>\n    </tr>\n  </tbody>\n</table>\n</div>"
     },
     "metadata": {},
     "execution_count": 9
    }
   ],
   "source": [
    "import Complete_crypto_dtb\n",
    "\n",
    "Dtb = Complete_crypto_dtb.Dtb_crypto_historic(resolution='min')\n",
    "Dtb.df.head(5)"
   ]
  },
  {
   "source": [
    "### Preprocessing for timestep\n"
   ],
   "cell_type": "markdown",
   "metadata": {}
  },
  {
   "cell_type": "code",
   "execution_count": 1,
   "metadata": {},
   "outputs": [
    {
     "output_type": "error",
     "ename": "ModuleNotFoundError",
     "evalue": "No module named 'sklearn'",
     "traceback": [
      "\u001b[1;31m---------------------------------------------------------------------------\u001b[0m",
      "\u001b[1;31mModuleNotFoundError\u001b[0m                       Traceback (most recent call last)",
      "\u001b[1;32m<ipython-input-1-431bfc8fed4d>\u001b[0m in \u001b[0;36m<module>\u001b[1;34m\u001b[0m\n\u001b[1;32m----> 1\u001b[1;33m \u001b[1;32mfrom\u001b[0m \u001b[0msklearn\u001b[0m\u001b[1;33m.\u001b[0m\u001b[0mpreprocessing\u001b[0m \u001b[1;32mimport\u001b[0m \u001b[0mStandardScaler\u001b[0m\u001b[1;33m\u001b[0m\u001b[1;33m\u001b[0m\u001b[0m\n\u001b[0m\u001b[0;32m      2\u001b[0m \u001b[0mDatabase_crypto\u001b[0m \u001b[1;33m=\u001b[0m \u001b[0mDtb\u001b[0m\u001b[1;33m.\u001b[0m\u001b[0mdf\u001b[0m\u001b[1;33m\u001b[0m\u001b[1;33m\u001b[0m\u001b[0m\n\u001b[0;32m      3\u001b[0m \u001b[1;33m\u001b[0m\u001b[0m\n\u001b[0;32m      4\u001b[0m \u001b[1;31m# Using pourcentage change instead of raw value to be independant during training\u001b[0m\u001b[1;33m\u001b[0m\u001b[1;33m\u001b[0m\u001b[1;33m\u001b[0m\u001b[0m\n\u001b[0;32m      5\u001b[0m \u001b[1;32mfor\u001b[0m \u001b[0mcol\u001b[0m \u001b[1;32min\u001b[0m \u001b[0mDatabase_crypto\u001b[0m\u001b[1;33m.\u001b[0m\u001b[0mcolumns\u001b[0m\u001b[1;33m:\u001b[0m\u001b[1;33m\u001b[0m\u001b[1;33m\u001b[0m\u001b[0m\n",
      "\u001b[1;31mModuleNotFoundError\u001b[0m: No module named 'sklearn'"
     ]
    }
   ],
   "source": [
    "from sklearn.preprocessing import StandardScaler\n",
    "Database_crypto = Dtb.df\n",
    "\n",
    "# Using pourcentage change instead of raw value to be independant during training\n",
    "for col in Database_crypto.columns:\n",
    "    Database_crypto[col]=Database_crypto[col].pct_change()\n",
    "Database_crypto.dropna(inplace=True)\n",
    "Database_crypto\n",
    "std = StandardScaler()\n",
    "X = std.fit_transform(Database_crypto)\n",
    "X"
   ]
  },
  {
   "cell_type": "code",
   "execution_count": null,
   "metadata": {},
   "outputs": [],
   "source": []
  }
 ]
}