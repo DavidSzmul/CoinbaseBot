{
 "metadata": {
  "language_info": {
   "codemirror_mode": {
    "name": "ipython",
    "version": 3
   },
   "file_extension": ".py",
   "mimetype": "text/x-python",
   "name": "python",
   "nbconvert_exporter": "python",
   "pygments_lexer": "ipython3",
   "version": "3.8.9"
  },
  "orig_nbformat": 2,
  "kernelspec": {
   "name": "python389jvsc74a57bd0d5307ae7be77f504be869cabca25184655dbf2914e3429be11ec8526b1cfeb30",
   "display_name": "Python 3.8.9 64-bit"
  },
  "metadata": {
   "interpreter": {
    "hash": "d5307ae7be77f504be869cabca25184655dbf2914e3429be11ec8526b1cfeb30"
   }
  }
 },
 "nbformat": 4,
 "nbformat_minor": 2,
 "cells": [
  {
   "source": [
    "## Initialization of Dataframe\n",
    "### Prototype to manipulate Dataframe used to conserve historic of prices\n",
    "### (Implemented on python script yet)"
   ],
   "cell_type": "markdown",
   "metadata": {}
  },
  {
   "cell_type": "code",
   "execution_count": 42,
   "metadata": {},
   "outputs": [],
   "source": [
    "import pandas as pd\n",
    "import numpy as np\n",
    "from numpy import random\n",
    "import datetime\n",
    "import time\n",
    "import os\n",
    "import json\n",
    "# import coinbase\n",
    "from datetime import date, datetime\n",
    "\n",
    "maxSizeDtb=1e1\n",
    "time_resolution = 60\n",
    "df = pd.DataFrame(index=[0])\n"
   ]
  },
  {
   "source": [
    "## Include New Line + Columns"
   ],
   "cell_type": "markdown",
   "metadata": {}
  },
  {
   "cell_type": "code",
   "execution_count": 43,
   "metadata": {},
   "outputs": [
    {
     "output_type": "stream",
     "name": "stdout",
     "text": [
      "Missing:  ['BTC-EUR', 'ETH-EUR', 'ETC-EUR', 'LTC-EUR'] 4\n   BTC-EUR  ETH-EUR  ETC-EUR  LTC-EUR\n0      NaN      NaN      NaN      NaN\n"
     ]
    }
   ],
   "source": [
    "ts = int(datetime.now().timestamp())\n",
    "# crypto_names =   [\"BTC-EUR\", \"ETH-EUR\", \"ETC-EUR\"]\n",
    "crypto_names =   [\"BTC-EUR\", \"ETH-EUR\", \"ETC-EUR\", \"LTC-EUR\"]\n",
    "missing_crypto = [crypto for crypto in crypto_names if crypto not in df.columns]\n",
    "print('Missing: ', missing_crypto, len(missing_crypto))\n",
    "\n",
    "if len(missing_crypto)>0:\n",
    "    new_clmn = pd.DataFrame(np.NaN, columns=missing_crypto, index=df.index)\n",
    "    df = pd.concat([df, new_clmn], axis=1)\n",
    "print(df.head(10))\n"
   ]
  },
  {
   "cell_type": "code",
   "execution_count": 44,
   "metadata": {},
   "outputs": [
    {
     "output_type": "stream",
     "name": "stdout",
     "text": [
      "missing_t:  [1620732420, 1620732480, 1620732540, 1620732600, 1620732660, 1620732720, 1620732780, 1620732840, 1620732900]\nadded_rows:  9\n            BTC-EUR  ETH-EUR  ETC-EUR  LTC-EUR\n1620732420      NaN      NaN      NaN      NaN\n1620732480      NaN      NaN      NaN      NaN\n1620732540      NaN      NaN      NaN      NaN\n1620732600      NaN      NaN      NaN      NaN\n1620732660      NaN      NaN      NaN      NaN\n1620732720      NaN      NaN      NaN      NaN\n1620732780      NaN      NaN      NaN      NaN\n1620732840      NaN      NaN      NaN      NaN\n1620732900      NaN      NaN      NaN      NaN\n            BTC-EUR  ETH-EUR  ETC-EUR  LTC-EUR\n0               NaN      NaN      NaN      NaN\n1620732420      NaN      NaN      NaN      NaN\n1620732480      NaN      NaN      NaN      NaN\n1620732540      NaN      NaN      NaN      NaN\n1620732600      NaN      NaN      NaN      NaN\n1620732660      NaN      NaN      NaN      NaN\n1620732720      NaN      NaN      NaN      NaN\n1620732780      NaN      NaN      NaN      NaN\n1620732840      NaN      NaN      NaN      NaN\n1620732900      NaN      NaN      NaN      NaN\n"
     ]
    }
   ],
   "source": [
    "# Complete row\n",
    "ts = ts+1000\n",
    "\n",
    "tmax = np.floor(ts/time_resolution)*time_resolution\n",
    "tmin = tmax-(maxSizeDtb-1)*time_resolution\n",
    "trange = np.arange(tmin, tmax, time_resolution)\n",
    "\n",
    "current_max_t = df.index.max() # Time already in dtb\n",
    "missing_t = [int(t) for t in trange if t > current_max_t]\n",
    "new_row = pd.DataFrame(np.NaN, columns=df.columns, index=missing_t)\n",
    "p_nbRow = len(df)\n",
    "\n",
    "df = pd.concat([df, new_row], axis=0, verify_integrity=True)\n",
    "# df = pd.concat([df, new_row], axis=0, verify_integrity=True) # To verify unique key (Need to add unique)\n",
    "print('missing_t: ', missing_t)\n",
    "print('added_rows: ', len(df)-p_nbRow)\n",
    "print(new_row)\n",
    "print(df)\n"
   ]
  },
  {
   "cell_type": "code",
   "execution_count": 45,
   "metadata": {},
   "outputs": [
    {
     "output_type": "stream",
     "name": "stdout",
     "text": [
      "1620732420.0\n"
     ]
    },
    {
     "output_type": "execute_result",
     "data": {
      "text/plain": [
       "            BTC-EUR  ETH-EUR  ETC-EUR  LTC-EUR\n",
       "1620732420      NaN      NaN      NaN      NaN\n",
       "1620732480      NaN      NaN      NaN      NaN\n",
       "1620732540      NaN      NaN      NaN      NaN\n",
       "1620732600      NaN      NaN      NaN      NaN\n",
       "1620732660      NaN      NaN      NaN      NaN\n",
       "1620732720      NaN      NaN      NaN      NaN\n",
       "1620732780      NaN      NaN      NaN      NaN\n",
       "1620732840      NaN      NaN      NaN      NaN\n",
       "1620732900      NaN      NaN      NaN      NaN"
      ],
      "text/html": "<div>\n<style scoped>\n    .dataframe tbody tr th:only-of-type {\n        vertical-align: middle;\n    }\n\n    .dataframe tbody tr th {\n        vertical-align: top;\n    }\n\n    .dataframe thead th {\n        text-align: right;\n    }\n</style>\n<table border=\"1\" class=\"dataframe\">\n  <thead>\n    <tr style=\"text-align: right;\">\n      <th></th>\n      <th>BTC-EUR</th>\n      <th>ETH-EUR</th>\n      <th>ETC-EUR</th>\n      <th>LTC-EUR</th>\n    </tr>\n  </thead>\n  <tbody>\n    <tr>\n      <th>1620732420</th>\n      <td>NaN</td>\n      <td>NaN</td>\n      <td>NaN</td>\n      <td>NaN</td>\n    </tr>\n    <tr>\n      <th>1620732480</th>\n      <td>NaN</td>\n      <td>NaN</td>\n      <td>NaN</td>\n      <td>NaN</td>\n    </tr>\n    <tr>\n      <th>1620732540</th>\n      <td>NaN</td>\n      <td>NaN</td>\n      <td>NaN</td>\n      <td>NaN</td>\n    </tr>\n    <tr>\n      <th>1620732600</th>\n      <td>NaN</td>\n      <td>NaN</td>\n      <td>NaN</td>\n      <td>NaN</td>\n    </tr>\n    <tr>\n      <th>1620732660</th>\n      <td>NaN</td>\n      <td>NaN</td>\n      <td>NaN</td>\n      <td>NaN</td>\n    </tr>\n    <tr>\n      <th>1620732720</th>\n      <td>NaN</td>\n      <td>NaN</td>\n      <td>NaN</td>\n      <td>NaN</td>\n    </tr>\n    <tr>\n      <th>1620732780</th>\n      <td>NaN</td>\n      <td>NaN</td>\n      <td>NaN</td>\n      <td>NaN</td>\n    </tr>\n    <tr>\n      <th>1620732840</th>\n      <td>NaN</td>\n      <td>NaN</td>\n      <td>NaN</td>\n      <td>NaN</td>\n    </tr>\n    <tr>\n      <th>1620732900</th>\n      <td>NaN</td>\n      <td>NaN</td>\n      <td>NaN</td>\n      <td>NaN</td>\n    </tr>\n  </tbody>\n</table>\n</div>"
     },
     "metadata": {},
     "execution_count": 45
    }
   ],
   "source": [
    "#Troncation\n",
    "df = df.truncate(before=tmin, axis=0)\n",
    "print(tmin)\n",
    "df"
   ]
  },
  {
   "cell_type": "code",
   "execution_count": 110,
   "metadata": {},
   "outputs": [
    {
     "output_type": "stream",
     "name": "stdout",
     "text": [
      "            BTC-EUR  ETH-EUR  ETC-EUR  LTC-EUR\n1620732420      1.0      NaN      1.0      NaN\n1620732480      NaN      1.0      NaN      1.0\n1620732540      1.0      NaN      1.0      NaN\n1620732600      NaN      1.0      NaN      1.0\n1620732660      1.0      NaN      1.0      NaN\n1620732720      NaN      1.0      NaN      1.0\n1620732780      1.0      NaN      1.0      NaN\n1620732840      NaN      1.0      NaN      1.0\n1620732900      1.0      NaN      1.0      NaN\n"
     ]
    }
   ],
   "source": [
    "# Fill every NaN value\n",
    "from numpy import random\n",
    "for crypto in df.columns: # Fullfill in one entire column\n",
    "    value = random.rand(len(df[crypto])) # Determine value\n",
    "    df[crypto] = value\n",
    "\n",
    "value = np.NaN\n",
    "for crypto in df.columns: # Fullfill in one specific index\n",
    "    for i in df.index:\n",
    "        value = 1 if np.isnan(value) else np.NaN\n",
    "        df.loc[i][crypto] = value\n",
    "print(df)\n",
    "# df.loc[i]['BTC-EUR']"
   ]
  },
  {
   "cell_type": "code",
   "execution_count": 111,
   "metadata": {},
   "outputs": [
    {
     "output_type": "stream",
     "name": "stdout",
     "text": [
      "ETH-EUR\nLTC-EUR\nBTC-EUR\nETC-EUR\nETH-EUR\nLTC-EUR\nBTC-EUR\nETC-EUR\nETH-EUR\nLTC-EUR\nBTC-EUR\nETC-EUR\nETH-EUR\nLTC-EUR\nBTC-EUR\nETC-EUR\nETH-EUR\nLTC-EUR\n"
     ]
    },
    {
     "output_type": "execute_result",
     "data": {
      "text/plain": [
       "                 BTC-EUR       ETH-EUR       ETC-EUR       LTC-EUR\n",
       "1620732420  1.000000e+00  1.620732e+09  1.000000e+00  1.620732e+09\n",
       "1620732480  1.620732e+09  1.000000e+00  1.620732e+09  1.000000e+00\n",
       "1620732540  1.000000e+00  1.620733e+09  1.000000e+00  1.620733e+09\n",
       "1620732600  1.620733e+09  1.000000e+00  1.620733e+09  1.000000e+00\n",
       "1620732660  1.000000e+00  1.620733e+09  1.000000e+00  1.620733e+09\n",
       "1620732720  1.620733e+09  1.000000e+00  1.620733e+09  1.000000e+00\n",
       "1620732780  1.000000e+00  1.620733e+09  1.000000e+00  1.620733e+09\n",
       "1620732840  1.620733e+09  1.000000e+00  1.620733e+09  1.000000e+00\n",
       "1620732900  1.000000e+00  1.620733e+09  1.000000e+00  1.620733e+09"
      ],
      "text/html": "<div>\n<style scoped>\n    .dataframe tbody tr th:only-of-type {\n        vertical-align: middle;\n    }\n\n    .dataframe tbody tr th {\n        vertical-align: top;\n    }\n\n    .dataframe thead th {\n        text-align: right;\n    }\n</style>\n<table border=\"1\" class=\"dataframe\">\n  <thead>\n    <tr style=\"text-align: right;\">\n      <th></th>\n      <th>BTC-EUR</th>\n      <th>ETH-EUR</th>\n      <th>ETC-EUR</th>\n      <th>LTC-EUR</th>\n    </tr>\n  </thead>\n  <tbody>\n    <tr>\n      <th>1620732420</th>\n      <td>1.000000e+00</td>\n      <td>1.620732e+09</td>\n      <td>1.000000e+00</td>\n      <td>1.620732e+09</td>\n    </tr>\n    <tr>\n      <th>1620732480</th>\n      <td>1.620732e+09</td>\n      <td>1.000000e+00</td>\n      <td>1.620732e+09</td>\n      <td>1.000000e+00</td>\n    </tr>\n    <tr>\n      <th>1620732540</th>\n      <td>1.000000e+00</td>\n      <td>1.620733e+09</td>\n      <td>1.000000e+00</td>\n      <td>1.620733e+09</td>\n    </tr>\n    <tr>\n      <th>1620732600</th>\n      <td>1.620733e+09</td>\n      <td>1.000000e+00</td>\n      <td>1.620733e+09</td>\n      <td>1.000000e+00</td>\n    </tr>\n    <tr>\n      <th>1620732660</th>\n      <td>1.000000e+00</td>\n      <td>1.620733e+09</td>\n      <td>1.000000e+00</td>\n      <td>1.620733e+09</td>\n    </tr>\n    <tr>\n      <th>1620732720</th>\n      <td>1.620733e+09</td>\n      <td>1.000000e+00</td>\n      <td>1.620733e+09</td>\n      <td>1.000000e+00</td>\n    </tr>\n    <tr>\n      <th>1620732780</th>\n      <td>1.000000e+00</td>\n      <td>1.620733e+09</td>\n      <td>1.000000e+00</td>\n      <td>1.620733e+09</td>\n    </tr>\n    <tr>\n      <th>1620732840</th>\n      <td>1.620733e+09</td>\n      <td>1.000000e+00</td>\n      <td>1.620733e+09</td>\n      <td>1.000000e+00</td>\n    </tr>\n    <tr>\n      <th>1620732900</th>\n      <td>1.000000e+00</td>\n      <td>1.620733e+09</td>\n      <td>1.000000e+00</td>\n      <td>1.620733e+09</td>\n    </tr>\n  </tbody>\n</table>\n</div>"
     },
     "metadata": {},
     "execution_count": 111
    }
   ],
   "source": [
    "# Determine NaN values and correct them\n",
    "flag_array_is_nan = df.isnull().values\n",
    "index_array_is_nan =  [(i, j) for i in range(len(flag_array_is_nan)) \n",
    "                                for j in range(len(flag_array_is_nan[0])) if flag_array_is_nan[i,j]]\n",
    "\n",
    "for x,y in index_array_is_nan:\n",
    "    print(df.iloc[[x]].columns[y])\n",
    "    df.iloc[x,y]=df.iloc[[x]].index[0] # Added Process\n",
    "df"
   ]
  },
  {
   "cell_type": "code",
   "execution_count": 92,
   "metadata": {},
   "outputs": [
    {
     "output_type": "execute_result",
     "data": {
      "text/plain": [
       "Int64Index([1620732420], dtype='int64')"
      ]
     },
     "metadata": {},
     "execution_count": 92
    }
   ],
   "source": [
    " df.iloc[[0]].index"
   ]
  },
  {
   "cell_type": "code",
   "execution_count": null,
   "metadata": {},
   "outputs": [],
   "source": []
  }
 ]
}