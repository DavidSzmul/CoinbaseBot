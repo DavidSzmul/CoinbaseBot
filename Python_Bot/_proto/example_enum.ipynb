{
 "cells": [
  {
   "cell_type": "code",
   "execution_count": 3,
   "source": [
    "from enum import Enum\r\n",
    "\r\n",
    "class Resolution(Enum):\r\n",
    "    min = 'min'\r\n",
    "    hour = 'hour'\r\n",
    "    day = 'day'\r\n",
    "\r\n",
    "def challenge_enum(res: Resolution):\r\n",
    "    print(res.value)"
   ],
   "outputs": [],
   "metadata": {}
  },
  {
   "cell_type": "code",
   "execution_count": 4,
   "source": [
    "challenge_enum(Resolution.min)"
   ],
   "outputs": [
    {
     "output_type": "stream",
     "name": "stdout",
     "text": [
      "min\n"
     ]
    }
   ],
   "metadata": {}
  },
  {
   "cell_type": "code",
   "execution_count": 5,
   "source": [
    "import pandas as pd\r\n",
    "type(pd.DataFrame)"
   ],
   "outputs": [
    {
     "output_type": "execute_result",
     "data": {
      "text/plain": [
       "type"
      ]
     },
     "metadata": {},
     "execution_count": 5
    }
   ],
   "metadata": {}
  }
 ],
 "metadata": {
  "orig_nbformat": 4,
  "language_info": {
   "name": "python",
   "version": "3.8.9",
   "mimetype": "text/x-python",
   "codemirror_mode": {
    "name": "ipython",
    "version": 3
   },
   "pygments_lexer": "ipython3",
   "nbconvert_exporter": "python",
   "file_extension": ".py"
  },
  "kernelspec": {
   "name": "python3",
   "display_name": "Python 3.8.9 64-bit"
  },
  "interpreter": {
   "hash": "d5307ae7be77f504be869cabca25184655dbf2914e3429be11ec8526b1cfeb30"
  }
 },
 "nbformat": 4,
 "nbformat_minor": 2
}