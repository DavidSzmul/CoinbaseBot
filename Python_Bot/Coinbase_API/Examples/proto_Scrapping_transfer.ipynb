{
 "metadata": {
  "language_info": {
   "codemirror_mode": {
    "name": "ipython",
    "version": 3
   },
   "file_extension": ".py",
   "mimetype": "text/x-python",
   "name": "python",
   "nbconvert_exporter": "python",
   "pygments_lexer": "ipython3",
   "version": "3.8.8"
  },
  "orig_nbformat": 2,
  "kernelspec": {
   "name": "python388jvsc74a57bd069e1671651cf2522b1166c0ccf34a767d835e77568d9bde8c7492b49cf3fcd39",
   "display_name": "Python 3.8.8  ('_virtual_env': venv)"
  },
  "metadata": {
   "interpreter": {
    "hash": "69e1671651cf2522b1166c0ccf34a767d835e77568d9bde8c7492b49cf3fcd39"
   }
  }
 },
 "nbformat": 4,
 "nbformat_minor": 2,
 "cells": [
  {
   "source": [
    "## Initialization"
   ],
   "cell_type": "markdown",
   "metadata": {}
  },
  {
   "cell_type": "code",
   "execution_count": 2,
   "metadata": {
    "tags": []
   },
   "outputs": [],
   "source": [
    "import os, sys\n",
    "import time\n",
    "from selenium import webdriver\n",
    "from selenium.webdriver.chrome.options import Options\n",
    "from Coinbase_API.encryption import Coinbase_cryption\n",
    "\n",
    "DRIVER_PATH = os.path.join(os.getcwd(),\"chromedriver.exe\")\n",
    "options = Options()\n",
    "options.headless = False\n",
    "options.add_argument(\"--window-size=1920,1200\")\n",
    "driver = webdriver.Chrome(DRIVER_PATH, options=options)\n",
    "\n",
    "# Go to site\n",
    "coinbase_site = \"https://www.coinbase.com/dashboard\"\n",
    "driver.get(coinbase_site)\n",
    "time.sleep(2)\n",
    "\n",
    "# # Get Email+Password\n",
    "email = 'david.szmul@gmail.com'\n",
    "coinbase_enc = Coinbase_cryption()\n",
    "grid_email = driver.find_element_by_id(\"email\").send_keys(email)\n",
    "grid_password = driver.find_element_by_id(\"password\").send_keys(coinbase_enc.decrypt_pswd())\n",
    "grid_stay = driver.find_element_by_id(\"stay_signed_in\").click()\n",
    "grid_connect = driver.find_element_by_id(\"signin_button\").click()\n"
   ]
  },
  {
   "source": [
    "### SAVE Cookie for the initialization after manual OAuth2"
   ],
   "cell_type": "markdown",
   "metadata": {}
  },
  {
   "cell_type": "code",
   "execution_count": 3,
   "metadata": {},
   "outputs": [],
   "source": [
    "import pickle\n",
    "\n",
    "# Save cookies\n",
    "file_cookie = os.getenv('COINBASE_PATH')+'COOKIE.pkl'\n",
    "\n",
    "def save_cookies(file):\n",
    "    cookies = driver.get_cookies()\n",
    "    with open(file, 'wb') as f:      \n",
    "        pickle.dump(cookies, f)\n",
    "save_cookies(file_cookie)\n",
    "\n",
    "# print(cookies)"
   ]
  },
  {
   "source": [
    "### Reopen using Cookie"
   ],
   "cell_type": "markdown",
   "metadata": {}
  },
  {
   "cell_type": "code",
   "execution_count": 30,
   "metadata": {},
   "outputs": [],
   "source": [
    "import pickle\n",
    "import os, sys\n",
    "import time\n",
    "from selenium import webdriver\n",
    "from selenium.webdriver.chrome.options import Options\n",
    "from selenium.common import exceptions\n",
    "from Coinbase_API.encryption import Coinbase_cryption\n",
    "\n",
    "\n",
    "DRIVER_PATH = os.path.join(os.getcwd(),\"chromedriver.exe\")\n",
    "options = Options()\n",
    "options.headless = False\n",
    "options.add_argument(\"--window-size=1920,1200\")\n",
    "driver = webdriver.Chrome(DRIVER_PATH, options=options)\n",
    "\n",
    "def load_cookies(file):\n",
    "    with open(file, 'rb') as f:      \n",
    "        cookies = pickle.load(f)\n",
    "    for c in cookies:\n",
    "        if isinstance(c.get(\"expiry\"), float):\n",
    "            c[\"expiry\"] = int(c[\"expiry\"])\n",
    "        driver.add_cookie(c)   \n",
    "\n",
    "# N=input('Pause')\n",
    "# Go to site\n",
    "coinbase_site = \"https://www.coinbase.com/dashboard\"\n",
    "driver.get(coinbase_site)\n",
    "time.sleep(2)\n",
    "\n",
    "## Add cookies\n",
    "file_cookie = os.getenv('COINBASE_PATH')+'COOKIE.pkl'\n",
    "load_cookies(file_cookie)\n",
    "\n",
    "# # Get Email+Password\n",
    "email = 'david.szmul@gmail.com'\n",
    "coinbase_enc = Coinbase_cryption()\n",
    "grid_email = driver.find_element_by_id(\"email\").send_keys(email)\n",
    "grid_password = driver.find_element_by_id(\"password\").send_keys(coinbase_enc.decrypt_pswd())\n",
    "grid_stay = driver.find_element_by_id(\"stay_signed_in\").click()\n",
    "grid_connect = driver.find_element_by_id(\"signin_button\").click()"
   ]
  },
  {
   "cell_type": "code",
   "execution_count": 26,
   "metadata": {},
   "outputs": [
    {
     "output_type": "execute_result",
     "data": {
      "text/plain": [
       "1"
      ]
     },
     "metadata": {},
     "execution_count": 26
    }
   ],
   "source": []
  },
  {
   "cell_type": "code",
   "execution_count": null,
   "metadata": {},
   "outputs": [],
   "source": []
  }
 ]
}